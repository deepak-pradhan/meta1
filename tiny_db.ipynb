{
 "cells": [
  {
   "cell_type": "code",
   "execution_count": null,
   "metadata": {},
   "outputs": [],
   "source": []
  },
  {
   "cell_type": "code",
   "execution_count": 2,
   "metadata": {},
   "outputs": [
    {
     "name": "stdout",
     "output_type": "stream",
     "text": [
      "Collecting tinydb\n",
      "  Downloading tinydb-4.8.2-py3-none-any.whl.metadata (6.7 kB)\n",
      "Downloading tinydb-4.8.2-py3-none-any.whl (24 kB)\n",
      "Installing collected packages: tinydb\n",
      "Successfully installed tinydb-4.8.2\n"
     ]
    }
   ],
   "source": [
    "!pip install tinydb"
   ]
  },
  {
   "cell_type": "markdown",
   "metadata": {},
   "source": [
    "# TinyDB setup \n",
    "make it ready to store schema information. \n",
    "\n",
    "This empty database provides a clean slate for us to start populating with schema data. \n",
    "It's a great first step in our implementation of a flexible schema management system. \n",
    "\n"
   ]
  },
  {
   "cell_type": "code",
   "execution_count": 6,
   "metadata": {},
   "outputs": [],
   "source": [
    "import os\n",
    "from tinydb import TinyDB, Query\n",
    "\n",
    "# Set up the database path\n",
    "try:\n",
    "    DB_PATH = os.path.join(os.path.dirname(__file__), 'TinyDB_schema_store.json')\n",
    "except NameError:\n",
    "    # We're in an interactive environment\n",
    "    DB_PATH = os.path.join(os.getcwd(), 'TinyDB_schema_store.json')\n",
    "\n",
    "# Initialize TinyDB\n",
    "schema_db = TinyDB(DB_PATH)\n",
    "\n",
    "def store_schema(schema_name, schema_data):\n",
    "    \"\"\"Store a schema in the database.\"\"\"\n",
    "    schema_db.insert({'name': schema_name, 'data': schema_data})\n",
    "\n",
    "def get_schema(schema_name):\n",
    "    \"\"\"Retrieve a schema from the database.\"\"\"\n",
    "    Schema = Query()\n",
    "    return schema_db.search(Schema.name == schema_name)\n",
    "\n",
    "def list_schemas():\n",
    "    \"\"\"List all stored schemas.\"\"\"\n",
    "    return [item['name'] for item in schema_db.all()]\n",
    "\n",
    "def update_schema(schema_name, new_data):\n",
    "    \"\"\"Update an existing schema.\"\"\"\n",
    "    Schema = Query()\n",
    "    schema_db.update({'data': new_data}, Schema.name == schema_name)\n",
    "\n",
    "def delete_schema(schema_name):\n",
    "    \"\"\"Delete a schema from the database.\"\"\"\n",
    "    Schema = Query()\n",
    "    schema_db.remove(Schema.name == schema_name)\n"
   ]
  },
  {
   "cell_type": "markdown",
   "metadata": {},
   "source": [
    "## Storing and retrieving schema information. \n",
    "\n",
    "Start building the core functionality of our schema management system.\n",
    "\n",
    "focus on implementing robust functions for storing schemas and retrieving them efficiently. \n",
    "- to insert a new schema into our TinyDB database\n",
    "- to fetch schemas based on specific criteria. \n",
    "This will form the foundation for more complex operations like schema versioning, comparison, and impact analysis.\n",
    "\n",
    "begin with the schema storage function then the retrieval\n",
    "\n",
    "\n",
    "\n"
   ]
  },
  {
   "cell_type": "code",
   "execution_count": 9,
   "metadata": {},
   "outputs": [
    {
     "name": "stdout",
     "output_type": "stream",
     "text": [
      "Stored schema with ID: 1\n"
     ]
    }
   ],
   "source": [
    "from datetime import datetime\n",
    "\n",
    "\n",
    "def store_schema(schema_name, schema_data, version='1.0'):\n",
    "    \"\"\"\n",
    "    Store a schema in the database.\n",
    "    \n",
    "    Args:\n",
    "    schema_name (str): Name of the schema\n",
    "    schema_data (dict): The schema definition\n",
    "    version (str): Version of the schema, defaults to '1.0'\n",
    "    \n",
    "    Returns:\n",
    "    int: The ID of the inserted document\n",
    "    \"\"\"\n",
    "    document = {\n",
    "        'name': schema_name,\n",
    "        'version': version,\n",
    "        'data': schema_data,\n",
    "        'created_at': datetime.now().isoformat()\n",
    "    }\n",
    "    return schema_db.insert(document)\n",
    "\n",
    "# Example usage:\n",
    "json_schema = {\n",
    "    \"tables\": [\n",
    "        {\n",
    "            \"name\": \"users\",\n",
    "            \"columns\": [\n",
    "                {\"name\": \"id\", \"type\": \"Integer\", \"primary_key\": True},\n",
    "                {\"name\": \"username\", \"type\": \"String(50)\", \"unique\": True},\n",
    "                {\"name\": \"email\", \"type\": \"String(120)\", \"unique\": True}\n",
    "            ]\n",
    "        }\n",
    "    ]\n",
    "}\n",
    "schema_id = store_schema(\"user_schema\", json_schema)\n",
    "print(f\"Stored schema with ID: {schema_id}\")\n"
   ]
  },
  {
   "cell_type": "code",
   "execution_count": 10,
   "metadata": {},
   "outputs": [
    {
     "name": "stdout",
     "output_type": "stream",
     "text": [
      "Retrieved schema: user_schema, version: 1.0\n",
      "{'tables': [{'name': 'users', 'columns': [{'name': 'id', 'type': 'Integer', 'primary_key': True}, {'name': 'username', 'type': 'String(50)', 'unique': True}, {'name': 'email', 'type': 'String(120)', 'unique': True}]}]}\n"
     ]
    }
   ],
   "source": [
    "def get_schema(schema_name, version=None):\n",
    "    \"\"\"\n",
    "    Retrieve a schema from the database.\n",
    "    \n",
    "    Args:\n",
    "    schema_name (str): Name of the schema to retrieve\n",
    "    version (str, optional): Specific version to retrieve. If None, returns the latest version.\n",
    "    \n",
    "    Returns:\n",
    "    dict: The retrieved schema document, or None if not found\n",
    "    \"\"\"\n",
    "    Schema = Query()\n",
    "    if version:\n",
    "        result = schema_db.search((Schema.name == schema_name) & (Schema.version == version))\n",
    "    else:\n",
    "        result = schema_db.search(Schema.name == schema_name)\n",
    "        result.sort(key=lambda x: x['version'], reverse=True)\n",
    "    \n",
    "    return result[0] if result else None\n",
    "\n",
    "# Example usage:\n",
    "retrieved_schema = get_schema(\"user_schema\")\n",
    "if retrieved_schema:\n",
    "    print(f\"Retrieved schema: {retrieved_schema['name']}, version: {retrieved_schema['version']}\")\n",
    "    print(retrieved_schema['data'])\n",
    "else:\n",
    "    print(\"Schema not found\")\n"
   ]
  },
  {
   "cell_type": "markdown",
   "metadata": {},
   "source": [
    "## Schema comparison and impact analysis"
   ]
  },
  {
   "cell_type": "code",
   "execution_count": 11,
   "metadata": {},
   "outputs": [
    {
     "name": "stdout",
     "output_type": "stream",
     "text": [
      "Schema v1: {'name': 'user_profile', 'version': '1.0', 'data': {'name': 'user_profile', 'tables': [{'name': 'users', 'columns': [{'name': 'id', 'type': 'Integer', 'primary_key': True}, {'name': 'username', 'type': 'String(50)', 'unique': True}, {'name': 'email', 'type': 'String(120)', 'unique': True}]}]}, 'created_at': '2024-10-16T19:28:42.860761'}\n",
      "Schema v2: {'name': 'user_profile', 'version': '2.0', 'data': {'name': 'user_profile', 'tables': [{'name': 'users', 'columns': [{'name': 'id', 'type': 'Integer', 'primary_key': True}, {'name': 'username', 'type': 'String(50)', 'unique': True}, {'name': 'email', 'type': 'String(120)', 'unique': True}, {'name': 'full_name', 'type': 'String(100)', 'nullable': True}]}, {'name': 'user_preferences', 'columns': [{'name': 'user_id', 'type': 'Integer', 'primary_key': True}, {'name': 'theme', 'type': 'String(20)', 'default': 'light'}, {'name': 'notifications', 'type': 'Boolean', 'default': True}]}]}, 'created_at': '2024-10-16T19:28:42.863981'}\n"
     ]
    }
   ],
   "source": [
    "# First version of the schema\n",
    "schema_v1 = {\n",
    "    \"name\": \"user_profile\",\n",
    "    \"tables\": [\n",
    "        {\n",
    "            \"name\": \"users\",\n",
    "            \"columns\": [\n",
    "                {\"name\": \"id\", \"type\": \"Integer\", \"primary_key\": True},\n",
    "                {\"name\": \"username\", \"type\": \"String(50)\", \"unique\": True},\n",
    "                {\"name\": \"email\", \"type\": \"String(120)\", \"unique\": True}\n",
    "            ]\n",
    "        }\n",
    "    ]\n",
    "}\n",
    "\n",
    "# Store the first version\n",
    "store_schema(\"user_profile\", schema_v1, version=\"1.0\")\n",
    "\n",
    "# Second version of the schema with some changes\n",
    "schema_v2 = {\n",
    "    \"name\": \"user_profile\",\n",
    "    \"tables\": [\n",
    "        {\n",
    "            \"name\": \"users\",\n",
    "            \"columns\": [\n",
    "                {\"name\": \"id\", \"type\": \"Integer\", \"primary_key\": True},\n",
    "                {\"name\": \"username\", \"type\": \"String(50)\", \"unique\": True},\n",
    "                {\"name\": \"email\", \"type\": \"String(120)\", \"unique\": True},\n",
    "                {\"name\": \"full_name\", \"type\": \"String(100)\", \"nullable\": True}  # New column\n",
    "            ]\n",
    "        },\n",
    "        {\n",
    "            \"name\": \"user_preferences\",  # New table\n",
    "            \"columns\": [\n",
    "                {\"name\": \"user_id\", \"type\": \"Integer\", \"primary_key\": True},\n",
    "                {\"name\": \"theme\", \"type\": \"String(20)\", \"default\": \"light\"},\n",
    "                {\"name\": \"notifications\", \"type\": \"Boolean\", \"default\": True}\n",
    "            ]\n",
    "        }\n",
    "    ]\n",
    "}\n",
    "\n",
    "# Store the second version\n",
    "store_schema(\"user_profile\", schema_v2, version=\"2.0\")\n",
    "\n",
    "# Retrieve both versions to confirm storage\n",
    "v1 = get_schema(\"user_profile\", version=\"1.0\")\n",
    "v2 = get_schema(\"user_profile\", version=\"2.0\")\n",
    "\n",
    "print(\"Schema v1:\", v1)\n",
    "print(\"Schema v2:\", v2)\n"
   ]
  },
  {
   "cell_type": "markdown",
   "metadata": {},
   "source": [
    "## Compare Schema\n",
    "logic to compare these schema versions and highlight the differences.\n",
    "\n",
    "This will be the core functionality of our schema comparison feature\n",
    ", allowing us to pinpoint exactly how the schema has evolved between versions. \n",
    "\n",
    "We'll focus on identifying added, removed, and modified tables and columns, as well as changes in constraints and data types. \n",
    "\n",
    "This comparison logic will provide valuable insights for database administrators and developers, making it easier to track and understand schema changes over time. Let's dive into coding this crucial component of our schema management system!"
   ]
  },
  {
   "cell_type": "markdown",
   "metadata": {},
   "source": [
    "Here are the steps we'll follow to develop our schema comparison logic:\n",
    "\n",
    "[x] Create a main comparison function that takes two schema versions as input.\n",
    "[x] Compare the list of tables between the two versions to identify added or removed tables.\n",
    "[x] For each table present in both versions, compare the columns to detect additions, removals, or modifications.\n",
    "[x] Analyze changes in column properties such as data types, constraints, and default values.\n",
    "[x] Implement helper functions for detailed comparisons of specific elements (e.g., column comparison).\n",
    "[x] Generate a structured comparison result that clearly highlights all differences.\n"
   ]
  },
  {
   "cell_type": "code",
   "execution_count": 12,
   "metadata": {},
   "outputs": [],
   "source": [
    "def compare_schemas(schema1, schema2):\n",
    "    differences = {\n",
    "        'added_tables': [],\n",
    "        'removed_tables': [],\n",
    "        'modified_tables': {}\n",
    "    }\n",
    "\n",
    "    tables1 = set(table['name'] for table in schema1['tables'])\n",
    "    tables2 = set(table['name'] for table in schema2['tables'])\n",
    "\n",
    "    differences['added_tables'] = list(tables2 - tables1)\n",
    "    differences['removed_tables'] = list(tables1 - tables2)\n",
    "\n",
    "    for table_name in tables1.intersection(tables2):\n",
    "        table_diff = compare_tables(\n",
    "            next(t for t in schema1['tables'] if t['name'] == table_name),\n",
    "            next(t for t in schema2['tables'] if t['name'] == table_name)\n",
    "        )\n",
    "        if table_diff:\n",
    "            differences['modified_tables'][table_name] = table_diff\n",
    "\n",
    "    return differences\n",
    "\n",
    "def compare_tables(table1, table2):\n",
    "    # This function will be implemented next to compare individual tables\n",
    "    pass\n"
   ]
  },
  {
   "cell_type": "markdown",
   "metadata": {},
   "source": [
    "Absolutely! Your emphasis on due diligence is spot-on. This compare_tables function is indeed a critical component of our schema comparison tool. I'll craft this function with meticulous attention to detail, ensuring we capture all relevant differences between table structures. We'll implement robust logic to compare columns, data types, constraints, and other table-specific attributes. This thorough approach will provide the granular insights necessary for a comprehensive and reliable schema comparison. Let's dive in and create a function that meets the high standards required for this essential task.\n",
    "\n",
    "complete\n",
    "```python\n",
    "def compare_tables(table1, table2):\n",
    "    # This function will be implemented next to compare individual tables\n",
    "    pass\n",
    "```"
   ]
  },
  {
   "cell_type": "code",
   "execution_count": 14,
   "metadata": {},
   "outputs": [],
   "source": [
    "def compare_tables(table1, table2):\n",
    "    differences = {\n",
    "        'added_columns': [],\n",
    "        'removed_columns': [],\n",
    "        'modified_columns': {}\n",
    "    }\n",
    "\n",
    "    columns1 = {col['name']: col for col in table1['columns']}\n",
    "    columns2 = {col['name']: col for col in table2['columns']}\n",
    "\n",
    "    differences['added_columns'] = list(set(columns2.keys()) - set(columns1.keys()))\n",
    "    differences['removed_columns'] = list(set(columns1.keys()) - set(columns2.keys()))\n",
    "\n",
    "    for col_name in set(columns1.keys()) & set(columns2.keys()):\n",
    "        col_diff = compare_columns(columns1[col_name], columns2[col_name])\n",
    "        if col_diff:\n",
    "            differences['modified_columns'][col_name] = col_diff\n",
    "\n",
    "    return differences if any(differences.values()) else {}\n",
    "\n",
    "def compare_columns(col1, col2):\n",
    "    diff = {}\n",
    "    for key in set(col1.keys()) | set(col2.keys()):\n",
    "        if col1.get(key) != col2.get(key):\n",
    "            diff[key] = {'old': col1.get(key), 'new': col2.get(key)}\n",
    "    return diff\n"
   ]
  },
  {
   "cell_type": "code",
   "execution_count": 16,
   "metadata": {},
   "outputs": [
    {
     "name": "stdout",
     "output_type": "stream",
     "text": [
      "Schema Comparison Results:\n",
      "{\n",
      "  \"added_tables\": [\n",
      "    \"user_preferences\"\n",
      "  ],\n",
      "  \"removed_tables\": [],\n",
      "  \"modified_tables\": {\n",
      "    \"users\": {\n",
      "      \"added_columns\": [\n",
      "        \"full_name\"\n",
      "      ],\n",
      "      \"removed_columns\": [],\n",
      "      \"modified_columns\": {}\n",
      "    }\n",
      "  }\n",
      "}\n",
      "\n",
      "Added Tables: ['user_preferences']\n",
      "\n",
      "Modified Tables:\n",
      "  users:\n",
      "{\n",
      "    \"added_columns\": [\n",
      "        \"full_name\"\n",
      "    ],\n",
      "    \"removed_columns\": [],\n",
      "    \"modified_columns\": {}\n",
      "}\n"
     ]
    }
   ],
   "source": [
    "# Retrieve the stored schema versions\n",
    "import json\n",
    "\n",
    "\n",
    "v1 = get_schema(\"user_profile\", version=\"1.0\")\n",
    "v2 = get_schema(\"user_profile\", version=\"2.0\")\n",
    "\n",
    "# Compare the schemas\n",
    "comparison_result = compare_schemas(v1['data'], v2['data'])\n",
    "\n",
    "# Display the results\n",
    "print(\"Schema Comparison Results:\")\n",
    "print(json.dumps(comparison_result, indent=2))\n",
    "\n",
    "# Optionally, you can add more detailed analysis of the results\n",
    "if comparison_result['added_tables']:\n",
    "    print(\"\\nAdded Tables:\", comparison_result['added_tables'])\n",
    "if comparison_result['removed_tables']:\n",
    "    print(\"\\nRemoved Tables:\", comparison_result['removed_tables'])\n",
    "if comparison_result['modified_tables']:\n",
    "    print(\"\\nModified Tables:\")\n",
    "    for table, changes in comparison_result['modified_tables'].items():\n",
    "        print(f\"  {table}:\")\n",
    "        print(json.dumps(changes, indent=4))\n"
   ]
  },
  {
   "cell_type": "markdown",
   "metadata": {},
   "source": [
    "## [] Create a function to format and display the comparison results in a user-friendly manner.\n",
    "\n",
    "Let's create a dedicated function that will transform our comparison results into a more visually appealing and easily digestible format. \n",
    "\n",
    "This will significantly improve the user experience and make our schema comparison tool even more valuable.\n",
    "\n",
    "Here's how we can approach this:\n",
    "\n",
    "[x] create a new function called format_comparison_results that takes our comparison results as input.\n",
    "[x] use color coding to highlight different types of changes (additions in green, removals in red, mods in yellow).\n",
    "[x] provide more detailed explanations for each change, making it easier for users to understand the implications.\n",
    "[x] structure the output in a hierarchical manner, making it easy to navigate through complex schema changes.\n"
   ]
  },
  {
   "cell_type": "code",
   "execution_count": 18,
   "metadata": {},
   "outputs": [
    {
     "name": "stdout",
     "output_type": "stream",
     "text": [
      "Collecting colorama\n",
      "  Using cached colorama-0.4.6-py2.py3-none-any.whl.metadata (17 kB)\n",
      "Using cached colorama-0.4.6-py2.py3-none-any.whl (25 kB)\n",
      "Installing collected packages: colorama\n",
      "Successfully installed colorama-0.4.6\n"
     ]
    }
   ],
   "source": [
    "!pip install colorama"
   ]
  },
  {
   "cell_type": "code",
   "execution_count": 19,
   "metadata": {},
   "outputs": [
    {
     "name": "stdout",
     "output_type": "stream",
     "text": [
      "Schema Comparison Results:\n",
      "\n",
      "Added Tables:\n",
      "  + user_preferences\n",
      "\n",
      "Modified Tables:\n",
      "  users:\n",
      "    Added Columns:\n",
      "      + full_name\n",
      "\n"
     ]
    }
   ],
   "source": [
    "from colorama import Fore, Style, init\n",
    "\n",
    "init(autoreset=True)  # Initialize colorama\n",
    "\n",
    "def format_comparison_results(comparison_result):\n",
    "    output = []\n",
    "    output.append(f\"{Fore.CYAN}{Style.BRIGHT}Schema Comparison Results:{Style.RESET_ALL}\\n\")\n",
    "\n",
    "    if comparison_result['added_tables']:\n",
    "        output.append(f\"{Fore.GREEN}Added Tables:{Style.RESET_ALL}\")\n",
    "        for table in comparison_result['added_tables']:\n",
    "            output.append(f\"  + {table}\")\n",
    "        output.append(\"\")\n",
    "\n",
    "    if comparison_result['removed_tables']:\n",
    "        output.append(f\"{Fore.RED}Removed Tables:{Style.RESET_ALL}\")\n",
    "        for table in comparison_result['removed_tables']:\n",
    "            output.append(f\"  - {table}\")\n",
    "        output.append(\"\")\n",
    "\n",
    "    if comparison_result['modified_tables']:\n",
    "        output.append(f\"{Fore.YELLOW}Modified Tables:{Style.RESET_ALL}\")\n",
    "        for table, changes in comparison_result['modified_tables'].items():\n",
    "            output.append(f\"  {table}:\")\n",
    "            if changes['added_columns']:\n",
    "                output.append(f\"    {Fore.GREEN}Added Columns:{Style.RESET_ALL}\")\n",
    "                for column in changes['added_columns']:\n",
    "                    output.append(f\"      + {column}\")\n",
    "            if changes['removed_columns']:\n",
    "                output.append(f\"    {Fore.RED}Removed Columns:{Style.RESET_ALL}\")\n",
    "                for column in changes['removed_columns']:\n",
    "                    output.append(f\"      - {column}\")\n",
    "            if changes['modified_columns']:\n",
    "                output.append(f\"    {Fore.YELLOW}Modified Columns:{Style.RESET_ALL}\")\n",
    "                for column, mods in changes['modified_columns'].items():\n",
    "                    output.append(f\"      ~ {column}:\")\n",
    "                    for attr, values in mods.items():\n",
    "                        output.append(f\"        {attr}: {values['old']} -> {values['new']}\")\n",
    "            output.append(\"\")\n",
    "\n",
    "    return \"\\n\".join(output)\n",
    "\n",
    "# Usage\n",
    "formatted_result = format_comparison_results(comparison_result)\n",
    "print(formatted_result)\n"
   ]
  }
 ],
 "metadata": {
  "kernelspec": {
   "display_name": ".sbox1",
   "language": "python",
   "name": "python3"
  },
  "language_info": {
   "codemirror_mode": {
    "name": "ipython",
    "version": 3
   },
   "file_extension": ".py",
   "mimetype": "text/x-python",
   "name": "python",
   "nbconvert_exporter": "python",
   "pygments_lexer": "ipython3",
   "version": "3.12.2"
  }
 },
 "nbformat": 4,
 "nbformat_minor": 2
}
